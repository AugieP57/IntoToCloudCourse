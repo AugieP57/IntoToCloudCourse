{
 "cells": [
  {
   "cell_type": "markdown",
   "id": "745e3c25-f7a1-403b-9370-e82a5cebf78d",
   "metadata": {},
   "source": [
    "# DataScienceEcosystem\n",
    "In this Note book, Data Science Tool and Ecosystems are summaries"
   ]
  },
  {
   "cell_type": "markdown",
   "id": "2423c850-f030-44cf-beef-0ac73f7b29a9",
   "metadata": {},
   "source": [
    "Some of the popular languages that Data Science use are:\n",
    "1. Python\n",
    "2. R\n",
    "3. Java"
   ]
  },
  {
   "cell_type": "markdown",
   "id": "e8c9ac73-7f99-4856-8620-a995dacfa163",
   "metadata": {},
   "source": [
    "Some of the commonly used libraries used by Data Scientist Include:\n",
    "1. Numpy\n",
    "2. Pandas\n",
    "3. Keras"
   ]
  },
  {
   "cell_type": "markdown",
   "id": "e54807ff-cd64-476e-8f1e-b21640b01e72",
   "metadata": {},
   "source": [
    "| Data Science Tools  |\n",
    "|:-------------------:|\n",
    "| Research & Policy   |\n",
    "| Projects & Pilots   |\n",
    "\n"
   ]
  },
  {
   "cell_type": "markdown",
   "id": "0d303493-cd7c-4c06-8cb3-6af7b0db71ff",
   "metadata": {},
   "source": [
    "### Below are a few examples of evaluating arithmetic expressions in Python ###"
   ]
  },
  {
   "cell_type": "code",
   "execution_count": null,
   "id": "0aee372c-dbdb-409e-b0de-a51100ea441a",
   "metadata": {
    "tags": []
   },
   "outputs": [],
   "source": [
    "# this a simple arithmetic expression two multiple and add two integers\n",
    "(3 * 4) + 5"
   ]
  },
  {
   "cell_type": "code",
   "execution_count": null,
   "id": "1ecb5850-6a86-4fce-bf6f-c9c91de647fc",
   "metadata": {
    "tags": []
   },
   "outputs": [],
   "source": [
    "17"
   ]
  },
  {
   "cell_type": "code",
   "execution_count": null,
   "id": "5ecfe667-4a18-4196-a8ec-97fc8b208b21",
   "metadata": {
    "tags": []
   },
   "outputs": [],
   "source": [
    "# This will covnvert 200 minutes to hours by divding by 60\n",
    "print (200/60)"
   ]
  },
  {
   "cell_type": "code",
   "execution_count": null,
   "id": "2f8d51f8-3152-456f-9942-91a5911c8ca7",
   "metadata": {},
   "outputs": [],
   "source": []
  },
  {
   "cell_type": "code",
   "execution_count": null,
   "id": "f9f7e1f3-1502-40b8-8b5a-ac13d0e8ffcf",
   "metadata": {},
   "outputs": [],
   "source": []
  }
 ],
 "metadata": {
  "kernelspec": {
   "display_name": "Python",
   "language": "python",
   "name": "conda-env-python-py"
  },
  "language_info": {
   "codemirror_mode": {
    "name": "ipython",
    "version": 3
   },
   "file_extension": ".py",
   "mimetype": "text/x-python",
   "name": "python",
   "nbconvert_exporter": "python",
   "pygments_lexer": "ipython3",
   "version": "3.7.12"
  }
 },
 "nbformat": 4,
 "nbformat_minor": 5
}
